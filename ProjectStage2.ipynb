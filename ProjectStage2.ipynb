{
 "cells": [
  {
   "cell_type": "code",
   "execution_count": 152,
   "metadata": {},
   "outputs": [
    {
     "name": "stdout",
     "output_type": "stream",
     "text": [
      "Cross-validation scores of the features: [0.94117647 0.8125     0.875      0.6875     0.8125    ]\n",
      "Mean score of the set: 0.8257352941176471\n",
      "Standard Deviation score of the set: 0.08392022286808093\n",
      "Accuracy score of training data: 0.9135802469135802\n",
      "Accuracy score of the model from the testing set is 0.9382716049382716\n"
     ]
    },
    {
     "data": {
      "image/png": "[encoded data removed]",
      "text/plain": [
       "<Figure size 432x288 with 2 Axes>"
      ]
     },
     "metadata": {
      "needs_background": "light"
     },
     "output_type": "display_data"
    },
    {
     "data": {
      "image/png": "[encoded data removed]",
      "text/plain": [
       "<Figure size 432x288 with 2 Axes>"
      ]
     },
     "metadata": {
      "needs_background": "light"
     },
     "output_type": "display_data"
    }
   ],
   "source": [
    "import numpy as np\n",
    "from PIL import Image\n",
    "from numpy import asarray\n",
    "from sklearn.linear_model import LogisticRegression\n",
    "from sklearn.metrics import accuracy_score\n",
    "from sklearn.preprocessing import StandardScaler\n",
    "from sklearn.model_selection import KFold\n",
    "from sklearn.model_selection import cross_val_score\n",
    "from numpy import sqrt \n",
    "from PIL import Image,ImageFilter,ImageEnhance\n",
    "from sklearn import datasets, svm, metrics\n",
    "from sklearn.metrics import confusion_matrix, ConfusionMatrixDisplay\n",
    "import os, os.path\n",
    "import cv2\n",
    "\n",
    "#initialize scaler parameter for testing\n",
    "\n",
    "scaler = StandardScaler()\n",
    "\n",
    "#dataset pathways\n",
    "folder_training= #(add the folder pathway for the dataset) \n",
    "folder_testing= #(add the folder pathway for the dataset)\n",
    "\n",
    "#training model\n",
    "model = training(folder_training)\n",
    "\n",
    "# testing function\n",
    "testing(folder_testing,model,scaler)"
   ]
  },
  {
   "cell_type": "code",
   "execution_count": 145,
   "metadata": {},
   "outputs": [],
   "source": [
    "def feature_extraction(img):#This is a function that extracts the features from the images\n",
    "    grayImage = cv2.cvtColor(img, cv2.COLOR_BGR2GRAY)# Convert image to grayscale format and then resize it to 64x64px\n",
    "    resizedImage = cv2.resize(grayImage, (64, 64))\n",
    "    edgeDetector= cv2.Canny(resizedImage, 50,100,3)    # Use the Canny edge detection program to extract edges, edge detection\n",
    "    contour, _ = cv2.findContours(edgeDetector, cv2.RETR_TREE, cv2.CHAIN_APPROX_SIMPLE) # Find contours in the image\n",
    "    if len(contour) > 0: # Identify the largest contour \n",
    "        con = max(contour, key=cv2.contourArea)\n",
    "    else:\n",
    "        return None\n",
    "    # Obtain the Hu moments of the contour thats fitted in the ellipse\n",
    "    moment = cv2.moments(con)\n",
    "    hu_moment = cv2.HuMoments(moment)\n",
    "    e = cv2.fitEllipse(con)# Fit an ellipse into the contour\n",
    "    a, b = e[1] # Obtain features from the ellipse that identify with the contour\n",
    "    perimeter = 2*np.pi*((a**2 + b**2)/2)**0.5\n",
    "    area = np.pi*a*b\n",
    "    orientation = e[2]\n",
    "    eccentricity = (1-(b/a))**0.5\n",
    "    # Return extracted features \n",
    "    return [float(perimeter.real),float(area.real) ,float(orientation.real) ,float(eccentricity.real)]"
   ]
  },
  {
   "cell_type": "code",
   "execution_count": 151,
   "metadata": {},
   "outputs": [],
   "source": [
    "# get the data images from the testing and training datasets\n",
    "\n",
    "def get_data(folder):\n",
    "    file_path = os.listdir(folder)  #sort the file names\n",
    "    count = len(file_path)   #count of items in filepath\n",
    "    x = np.empty((count,4)) #feature empty array\n",
    "    y = np.empty((count,1))  #label empty array                 \n",
    "    for i in range(count):               #loop through each file\n",
    "        path = folder + '/' + file_path[i]\n",
    "        image1 = cv2.imread(path)                # Read the image\n",
    "        image1 = cv2.addWeighted(image1, 1.0, np.zeros(image1.shape, image1.dtype), 0, 30) #adjust brightness of the image\n",
    "        # label decision loop 0 = Rectangle, 1 = Square, 2 = Circle\n",
    "        if 'cir' in file_path[i]:\n",
    "            y[i,0] = 0\n",
    "        elif 'rec' in file_path[i]:\n",
    "            y[i,0] = 1\n",
    "        elif 'squ' in file_path[i]:\n",
    "            y[i,0] = 2\n",
    "        else:\n",
    "            print(\"file invalid\" + \" \" )\n",
    "    # Extract the features from each image\n",
    "        feature = feature_extraction(image1)\n",
    "        if feature is not None:\n",
    "            x[i,:] = feature               # keep the extracted features in x\n",
    "        else:\n",
    "            x[i,:] = np.zeros((1,4))          # If no features can be extrated then store empty array of 0\n",
    "    return x, y"
   ]
  },
  {
   "cell_type": "code",
   "execution_count": 146,
   "metadata": {},
   "outputs": [],
   "source": [
    "\n",
    "def training(folder):\n",
    "    x_train, y_train = get_data(folder)#get the feature extracted trained dataset\n",
    "    # Normalize training data\n",
    "    scaler = StandardScaler()\n",
    "    x_train = scaler.fit_transform(x_train)\n",
    "    model = LogisticRegression(max_iter=200000)\n",
    "    # Use k-fold cross-validation to evaluate the model whether the features extracted creat awell trained model.\n",
    "    kfold = KFold(n_splits=5, shuffle=True)\n",
    "    scores = cross_val_score(model, x_train, np.ravel(y_train), cv=kfold)\n",
    "    print(f'Cross-validation scores of the features: {scores}')\n",
    "    print(f'Mean score of the set: {np.mean(scores)}')\n",
    "    print(f'Standard Deviation score of the set: {np.std(scores)}')\n",
    "    # Fit the model to training data\n",
    "    model.fit(x_train, np.ravel(y_train))\n",
    "    # Calculate the model performance on training data\n",
    "    xpred = model.predict(x_train)\n",
    "    print(f'Accuracy score of training data: {accuracy_score(y_train, xpred)}')\n",
    "    conf_matrix = confusion_matrix(y_train,xpred)                           \n",
    "    disp = ConfusionMatrixDisplay(confusion_matrix=conf_matrix)   \n",
    "    disp.plot()                                                                                 \n",
    "    disp.ax_.set_title('Training Data Confusion Matrix') \n",
    "    return model"
   ]
  },
  {
   "cell_type": "code",
   "execution_count": 147,
   "metadata": {},
   "outputs": [],
   "source": [
    "\n",
    "def testing(folder_training, model, scalar):#testing functon \n",
    "    x_test, y_test = get_data(folder_training)#get the feature extracted x_test and y_test from the dataset\n",
    "    scaler = StandardScaler() #normalize the x_test \n",
    "    x_test = scaler.fit_transform(x_test)\n",
    "    y_pred = model.predict(x_test)#predict the output based on the fitted model and the feature extracted x test\n",
    "    acc_score= accuracy_score(y_test, y_pred) #calculate model performance on the testing data\n",
    "    print(f'Accuracy score of the model from the testing set is {acc_score}')\n",
    "    conf_matrix = confusion_matrix(y_test,y_pred)                           #calculate the confustion matrix from the test class labels to the predicted class labels\n",
    "    disp = ConfusionMatrixDisplay(confusion_matrix=conf_matrix)   #display the confustion matrix as an formatted image with true label vertically and the predicated label horizontally\n",
    "    disp.plot()                                                                                 #plot the confusion matrix\n",
    "    disp.ax_.set_title('Testing Data Confusion Matrix')                                         # set the title for the confusion matrix\n",
    "  \n",
    "    \n",
    "    \n"
   ]
  }
 ],
 "metadata": {
  "kernelspec": {
   "display_name": "Python 3 (ipykernel)",
   "language": "python",
   "name": "python3"
  },
  "language_info": {
   "codemirror_mode": {
    "name": "ipython",
    "version": 3
   },
   "file_extension": ".py",
   "mimetype": "text/x-python",
   "name": "python",
   "nbconvert_exporter": "python",
   "pygments_lexer": "ipython3",
   "version": "3.9.12"
  }
 },
 "nbformat": 4,
 "nbformat_minor": 4
}
