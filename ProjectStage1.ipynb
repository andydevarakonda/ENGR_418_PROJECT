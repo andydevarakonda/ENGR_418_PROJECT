{
 "cells": [
  {
   "cell_type": "code",
   "execution_count": 23,
   "id": "4db56675",
   "metadata": {},
   "outputs": [
    {
     "name": "stderr",
     "output_type": "stream",
     "text": [
      "C:\\Users\\andy\\anaconda3\\lib\\site-packages\\sklearn\\linear_model\\_logistic.py:814: ConvergenceWarning: lbfgs failed to converge (status=1):\n",
      "STOP: TOTAL NO. of ITERATIONS REACHED LIMIT.\n",
      "\n",
      "Increase the number of iterations (max_iter) or scale the data as shown in:\n",
      "    https://scikit-learn.org/stable/modules/preprocessing.html\n",
      "Please also refer to the documentation for alternative solver options:\n",
      "    https://scikit-learn.org/stable/modules/linear_model.html#logistic-regression\n",
      "  n_iter_i = _check_optimize_result(\n"
     ]
    },
    {
     "name": "stdout",
     "output_type": "stream",
     "text": [
      "The accuracy score for the training set is 100.0 %\n",
      "The accuracy score for the testing set is 88.88888888888889 %\n"
     ]
    },
    {
     "data": {
      "text/plain": [
       "(<function sklearn.metrics._classification.accuracy_score(y_true, y_pred, *, normalize=True, sample_weight=None)>,\n",
       " <function sklearn.metrics._classification.confusion_matrix(y_true, y_pred, *, labels=None, sample_weight=None, normalize=None)>)"
      ]
     },
     "execution_count": 23,
     "metadata": {},
     "output_type": "execute_result"
    },
    {
     "data": {
      "image/png": "[encoded data removed]",
      "text/plain": [
       "<Figure size 432x288 with 2 Axes>"
      ]
     },
     "metadata": {
      "needs_background": "light"
     },
     "output_type": "display_data"
    },
    {
     "data": {
      "image/png": "[encoded data removed]",
      "text/plain": [
       "<Figure size 432x288 with 2 Axes>"
      ]
     },
     "metadata": {
      "needs_background": "light"
     },
     "output_type": "display_data"
    }
   ],
   "source": [
    "#all the imports for project stage 1\n",
    "import matplotlib.pyplot as plt\n",
    "import numpy as np\n",
    "from PIL import Image\n",
    "from numpy import asarray\n",
    "from sklearn.metrics import confusion_matrix, ConfusionMatrixDisplay\n",
    "import os, os.path\n",
    "from sklearn.linear_model import LogisticRegression\n",
    "from sklearn.metrics import accuracy_score\n",
    "\n",
    "\n",
    "\n",
    "folderTraining=    # folder pathway for the training data (add the folder pathway for the dataset)\n",
    "folderTesting=     # folder pathway for the testing data  (add the folder pathway for the dataset)\n",
    "width = 5                                                         # desired width of use for each image\n",
    "length = 10                                                        # desired length of use for each image\n",
    "model = training(folderTraining,width,length)                      # call to the training function and returns Logistic regression model with the inputted training data set\n",
    "testing(folderTesting,model,width,length)                          # call to the testing fucntions which returns the confustion matrix for the testing data. "
   ]
  },
  {
   "cell_type": "code",
   "execution_count": 19,
   "id": "bccb6dc4",
   "metadata": {},
   "outputs": [],
   "source": [
    "def training(path,width,length):                                                                                          #method heading training, takes in the parameters of folder pathway, width and length of the image\n",
    "    imgData_train, class_label_train = getData(path,width,length)                                                         #Recieve Image Data and class label as matrix of the training dataset from getData()\n",
    "    class_label_train = np.ravel(class_label_train)                                                                       #ravels the class_label_train input as a 1-D array, containing the elements of the input\n",
    "    model = LogisticRegression()                                                                                          #Creating a Logistic Regression model\n",
    "    model.fit(imgData_train,class_label_train)                                                                            #Fitting the model to the training dataset\n",
    "    class_label_pred = model.predict(imgData_train)                                                                       #List of predicted values from the input from training data\n",
    "    print(f'The accuracy score for the training set is {accuracy_score(class_label_train, class_label_pred)*100} %')      #Calculate the accuracy score from the given training data set\n",
    "    conf_matrix = confusion_matrix(class_label_train, class_label_pred)                                                   #calculate the confustion matrix from the train class labels to the predicted class labels\n",
    "    disp1 = ConfusionMatrixDisplay(confusion_matrix=conf_matrix,display_labels=model.classes_)                            #display the confustion matrix as an formatted image with true label vertically and the predicated label horizontally\n",
    "    disp1.plot()                                                                                                          #plot the confusion matrix\n",
    "    disp1.ax_.set_title('Training Data Confusion Matrix')                                                                 # set the title for the confusion matrix\n",
    "    return model                                                                                                          #return the model of the Logistic Regression model trained with the training dataset\n",
    "    "
   ]
  },
  {
   "cell_type": "code",
   "execution_count": 20,
   "id": "38e1de56",
   "metadata": {},
   "outputs": [],
   "source": [
    "def testing(path, model, width , length):                                                           #method heading testing, takes in the parameters of folder pathway, width and length of the image, and the LogisticRegression model from the training dataset\n",
    "        imgData_test, class_label_test = getData(path,width,length)                                 #Recieve Image Data and class label as matrix of the testing dataset from getData()\n",
    "        class_label_pred = model.predict(imgData_test)                                              #List of predicted values from the input from testing data\n",
    "        acc_score = accuracy_score(class_label_test,class_label_pred) * 100                         #Calculate the accuracy score from the given testing data set\n",
    "        print(f'The accuracy score for the testing set is {acc_score} %')                           #print the accuracy score\n",
    "        conf_matrix = confusion_matrix(class_label_test,class_label_pred)                           #calculate the confustion matrix from the test class labels to the predicted class labels\n",
    "        disp = ConfusionMatrixDisplay(confusion_matrix=conf_matrix,display_labels=model.classes_)   #display the confustion matrix as an formatted image with true label vertically and the predicated label horizontally\n",
    "        disp.plot()                                                                                 #plot the confusion matrix\n",
    "        disp.ax_.set_title('Testing Data Confusion Matrix')                                         # set the title for the confusion matrix                                                                           \n",
    "        return accuracy_score, confusion_matrix                                                     # return the value for the accuracy score and the confusion matrix"
   ]
  },
  {
   "cell_type": "code",
   "execution_count": 21,
   "id": "fbfa8229",
   "metadata": {},
   "outputs": [],
   "source": [
    "                                                    \n",
    "def getData(dataFolder,width, length):                #method heading getData, takes in the parameters of folder pathway, width and length of the image\n",
    "    data_path= os.listdir(dataFolder)                 #list of the file names in the folder of interest such as training and testing                       \n",
    "    imgData= np.empty((len(data_path),width*length))  #creates an empty array of features for the image Data\n",
    "    class_label = np.empty((len(data_path),1))        #creates an empty array of labels for the image Data                \n",
    "    for i in range (len(data_path)):                  #a loop that iterates through the items in the folder of interest and appends a reshaped data array to the image data, which will be used as the X_train, X_test              \n",
    "        pathway = dataFolder + '/' + data_path[i]     #creates a string for the pathway for each image    \n",
    "        image = Image.open(pathway).convert('L')      #Uses the library Image to instantiate the image and converts it to greyscale\n",
    "        image= image.resize((width,length))           # resizes the image to the width and length of users choice          \n",
    "        image = asarray(image)                        #Converts the image to an array of data values           \n",
    "        imgData[i,:] = image.reshape(1,-1)            # Converts and reshapes features of the image data to 1D array    \n",
    "        \n",
    "        \n",
    "        #Since labels are in string value, we need to change it to a int value to name the labels\n",
    "        # 0  means Circle\n",
    "        # 1 means Rectangle\n",
    "        # 2 means Square\n",
    "        if 'cir' in data_path[i]:\n",
    "              class_label[i,0] = 0\n",
    "        if 'rec' in data_path[i]:\n",
    "              class_label[i,0] = 1\n",
    "        if 'squ' in data_path[i]:\n",
    "              class_label[i,0] = 2\n",
    "    return imgData,class_label                         #returns value for the reshaped image data and the integer converted class label describing each lego brick"
   ]
  }
 ],
 "metadata": {
  "kernelspec": {
   "display_name": "Python 3 (ipykernel)",
   "language": "python",
   "name": "python3"
  },
  "language_info": {
   "codemirror_mode": {
    "name": "ipython",
    "version": 3
   },
   "file_extension": ".py",
   "mimetype": "text/x-python",
   "name": "python",
   "nbconvert_exporter": "python",
   "pygments_lexer": "ipython3",
   "version": "3.9.12"
  }
 },
 "nbformat": 4,
 "nbformat_minor": 5
}
